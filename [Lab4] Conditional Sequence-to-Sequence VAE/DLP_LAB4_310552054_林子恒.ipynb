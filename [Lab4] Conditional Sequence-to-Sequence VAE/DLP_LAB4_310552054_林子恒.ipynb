{
  "nbformat": 4,
  "nbformat_minor": 0,
  "metadata": {
    "colab": {
      "name": "DLP_LAB4_310552054_林子恒.ipynb",
      "provenance": [],
      "collapsed_sections": []
    },
    "kernelspec": {
      "display_name": "Python 3",
      "name": "python3"
    },
    "language_info": {
      "name": "python"
    },
    "accelerator": "GPU"
  },
  "cells": [
    {
      "cell_type": "code",
      "metadata": {
        "id": "O0tkk5IpxRoV",
        "colab": {
          "base_uri": "https://localhost:8080/"
        },
        "outputId": "16ac6e54-5ca6-4237-991d-3798a7f6969c"
      },
      "source": [
        "!python -V\n",
        "!nvcc --version\n",
        "!nvidia-smi"
      ],
      "execution_count": 20,
      "outputs": [
        {
          "output_type": "stream",
          "name": "stdout",
          "text": [
            "Python 3.7.11\n",
            "nvcc: NVIDIA (R) Cuda compiler driver\n",
            "Copyright (c) 2005-2020 NVIDIA Corporation\n",
            "Built on Wed_Jul_22_19:09:09_PDT_2020\n",
            "Cuda compilation tools, release 11.0, V11.0.221\n",
            "Build cuda_11.0_bu.TC445_37.28845127_0\n",
            "Mon Aug 30 23:12:23 2021       \n",
            "+-----------------------------------------------------------------------------+\n",
            "| NVIDIA-SMI 470.57.02    Driver Version: 460.32.03    CUDA Version: 11.2     |\n",
            "|-------------------------------+----------------------+----------------------+\n",
            "| GPU  Name        Persistence-M| Bus-Id        Disp.A | Volatile Uncorr. ECC |\n",
            "| Fan  Temp  Perf  Pwr:Usage/Cap|         Memory-Usage | GPU-Util  Compute M. |\n",
            "|                               |                      |               MIG M. |\n",
            "|===============================+======================+======================|\n",
            "|   0  Tesla T4            Off  | 00000000:00:04.0 Off |                    0 |\n",
            "| N/A   41C    P8    10W /  70W |      0MiB / 15109MiB |      0%      Default |\n",
            "|                               |                      |                  N/A |\n",
            "+-------------------------------+----------------------+----------------------+\n",
            "                                                                               \n",
            "+-----------------------------------------------------------------------------+\n",
            "| Processes:                                                                  |\n",
            "|  GPU   GI   CI        PID   Type   Process name                  GPU Memory |\n",
            "|        ID   ID                                                   Usage      |\n",
            "|=============================================================================|\n",
            "|  No running processes found                                                 |\n",
            "+-----------------------------------------------------------------------------+\n"
          ]
        }
      ]
    },
    {
      "cell_type": "code",
      "metadata": {
        "id": "KTgFPrLGzsDE"
      },
      "source": [
        "import string\n",
        "import os\n",
        "import re\n",
        "import time\n",
        "import math\n",
        "import random\n",
        "import gdown\n",
        "from tqdm import tqdm\n",
        "import numpy as np\n",
        "import pandas as pd\n",
        "import matplotlib.pyplot as plt\n",
        "import matplotlib.ticker as ticker\n",
        "#plt.switch_backend('agg')\n",
        "import torch\n",
        "import torch.nn as nn\n",
        "import torch.nn.functional as F\n",
        "import torch.optim as optim\n",
        "from torch.autograd import Variable\n",
        "from torch.utils.data import Dataset"
      ],
      "execution_count": 21,
      "outputs": []
    },
    {
      "cell_type": "code",
      "metadata": {
        "id": "No70gNc2xgFX",
        "colab": {
          "base_uri": "https://localhost:8080/"
        },
        "outputId": "b4fc7b2c-5e7c-4293-af44-5dbb84f37e5b"
      },
      "source": [
        "!ls\n",
        "if os.path.isfile(\"data.zip\"):\n",
        "  print(\"file is already exist\")\n",
        "else:\n",
        "  print(\"file is not here\")\n",
        "  !gdown --id '18xU5fsOjcowz83ea-2HWG6T6fK6qw-OW' --output data.zip #download data.zip\n",
        "if os.path.isfile(\"train.txt\"):\n",
        "  print(\"file is already unzip\")\n",
        "else:\n",
        "  print(\"unzip the file\")\n",
        "  !unzip -q data.zip\n"
      ],
      "execution_count": 22,
      "outputs": [
        {
          "output_type": "stream",
          "name": "stdout",
          "text": [
            "data.zip  drive  readme.txt  sample_data  test.txt  train.txt\n",
            "file is already exist\n",
            "file is already unzip\n"
          ]
        }
      ]
    },
    {
      "cell_type": "code",
      "metadata": {
        "id": "wX1aNveO1xLK",
        "colab": {
          "base_uri": "https://localhost:8080/"
        },
        "outputId": "97916687-3bee-48f5-f986-38b308a88c4f"
      },
      "source": [
        "from google.colab import drive\n",
        "drive.mount('/content/drive')\n",
        "file_path = \"drive/MyDrive/NYCU/109 Summer Deep Learning and Practice/assignment/[Lab4] Conditional Sequence-to-Sequence VAE/\""
      ],
      "execution_count": 23,
      "outputs": [
        {
          "output_type": "stream",
          "name": "stdout",
          "text": [
            "Drive already mounted at /content/drive; to attempt to forcibly remount, call drive.mount(\"/content/drive\", force_remount=True).\n"
          ]
        }
      ]
    },
    {
      "cell_type": "markdown",
      "metadata": {
        "id": "jsK0ggc9zNnK"
      },
      "source": [
        "#Test Unit"
      ]
    },
    {
      "cell_type": "code",
      "metadata": {
        "id": "RmUHK3bwzLD_"
      },
      "source": [
        "from nltk.translate.bleu_score import SmoothingFunction, sentence_bleu\n",
        "#compute BLEU-4 score\n",
        "def compute_bleu(output, reference):\n",
        "    cc = SmoothingFunction()\n",
        "    if len(reference) == 3:\n",
        "        weights = (0.33,0.33,0.33)\n",
        "    else:\n",
        "        weights = (0.25,0.25,0.25,0.25)\n",
        "    return sentence_bleu([reference], output,weights=weights,smoothing_function=cc.method1)\n",
        "\n",
        "\n",
        "\n",
        "def Gaussian_score(words):\n",
        "    words_list = []\n",
        "    score = 0\n",
        "    yourpath = './train.txt'#should be your directory of train.txt\n",
        "    with open(yourpath,'r') as fp:\n",
        "        for line in fp:\n",
        "            word = line.split(' ')\n",
        "            word[3] = word[3].strip('\\n')\n",
        "            #print([word])\n",
        "            words_list.extend([word])\n",
        "        for t in words:\n",
        "          for i in words_list:\n",
        "            if t == i:\n",
        "              score += 1\n",
        "    return score/len(words)\n",
        "\n"
      ],
      "execution_count": 42,
      "outputs": []
    },
    {
      "cell_type": "code",
      "metadata": {
        "id": "DPc8NCdQVb1E"
      },
      "source": [
        "def asMinutes(s):\n",
        "    m = math.floor(s / 60)\n",
        "    s -= m * 60\n",
        "    return '%dm %ds' % (m, s)\n",
        "\n",
        "\n",
        "def timeSince(since, percent):\n",
        "    now = time.time()\n",
        "    s = now - since\n",
        "    es = s / (percent)\n",
        "    rs = es - s\n",
        "    return '%s (- %s)' % (asMinutes(s), asMinutes(rs))"
      ],
      "execution_count": 25,
      "outputs": []
    },
    {
      "cell_type": "markdown",
      "metadata": {
        "id": "x1gQEayNXK2p"
      },
      "source": [
        "#TextTransformer"
      ]
    },
    {
      "cell_type": "code",
      "metadata": {
        "id": "61rqk8fz88oE",
        "colab": {
          "base_uri": "https://localhost:8080/",
          "height": 52
        },
        "outputId": "e61336f5-1f1c-44f0-c118-aaa04cfa7b2f"
      },
      "source": [
        "SOS = 0\n",
        "EOS = 1\n",
        "PAD = 2\n",
        "UNK = 3\n",
        "\n",
        "class TextTransformer():\n",
        "  def __init__(self):\n",
        "    self.char2index = {\"SOS\":0, \"EOS\":1,\"PAD\":2, \"UNK\":3}\n",
        "    self.index2char = {0:\"SOS\", 1:\"EOS\", 2:\"PAD\", 3:\"UNK\"}\n",
        "    self.num_char = 4\n",
        "    #self.char_count = {}\n",
        "    \n",
        "    all_letters = string.ascii_letters[0:26]\n",
        "    for i in all_letters:\n",
        "      self.addChar(i)\n",
        "\n",
        "  def addChar(self, char):\n",
        "    if char not in self.char2index:\n",
        "      self.char2index[char] = self.num_char\n",
        "      self.index2char[self.num_char] = char\n",
        "      #self.char_count[char] = 1\n",
        "      self.num_char += 1\n",
        "    #else:\n",
        "      #self.char_count[char] +=1\n",
        "  \n",
        "  def split_seq(self, seq):#split word to seq\n",
        "    return [char for char in seq]\n",
        "\n",
        "  def seq2indices(self, seq, add_SOS = False, add_EOS = False):\n",
        "    seq = self.split_seq(seq)\n",
        "    indices = []\n",
        "\n",
        "    if add_SOS:\n",
        "      indices.append(self.char2index[\"SOS\"])\n",
        "\n",
        "    for char in seq:\n",
        "      if char in self.char2index:\n",
        "        indices.append(self.char2index[char])\n",
        "      else:\n",
        "        indices.append(self.char2index[\"UNK\"])\n",
        "        \n",
        "    if add_EOS:\n",
        "      indices.append(self.char2index[\"EOS\"])\n",
        "    return indices\n",
        "\n",
        "  def indices2seq(self, indices):\n",
        "    seq = []\n",
        "    for index in indices:\n",
        "      if self.index2char[index] == \"EOS\":\n",
        "        break\n",
        "      else:\n",
        "        if self.index2char[index] == \"UNK\" or self.index2char[index] ==\"SOS\":\n",
        "          pass\n",
        "        else:\n",
        "          seq.append(self.index2char[index])\n",
        "    return seq\n",
        "\n",
        "  def seq2word(self, seq):\n",
        "    word = \"\"\n",
        "    for char in seq:\n",
        "      word += char\n",
        "    return word\n",
        "\n",
        "\n",
        "test = TextTransformer()\n",
        "'''print(test.split_seq(\"hello\"))\n",
        "print(test.seq2indices(test.split_seq(\"hello\"),True,True))\n",
        "print(test.indices2seq(test.seq2indices(test.split_seq(\"hello\"))))\n",
        "print(test.seq2word(test.indices2seq(test.seq2indices(test.split_seq(\"hello\")))))'''"
      ],
      "execution_count": 26,
      "outputs": [
        {
          "output_type": "execute_result",
          "data": {
            "application/vnd.google.colaboratory.intrinsic+json": {
              "type": "string"
            },
            "text/plain": [
              "'print(test.split_seq(\"hello\"))\\nprint(test.seq2indices(test.split_seq(\"hello\"),True,True))\\nprint(test.indices2seq(test.seq2indices(test.split_seq(\"hello\"))))\\nprint(test.seq2word(test.indices2seq(test.seq2indices(test.split_seq(\"hello\")))))'"
            ]
          },
          "metadata": {},
          "execution_count": 26
        }
      ]
    },
    {
      "cell_type": "markdown",
      "metadata": {
        "id": "n4NPg_0bXF3_"
      },
      "source": [
        "#Dataset"
      ]
    },
    {
      "cell_type": "code",
      "metadata": {
        "id": "v6Eq5NDqZtKR"
      },
      "source": [
        "class TrainDataset(Dataset):\n",
        "  def __init__(self):\n",
        "    self.file_path = './train.txt'    \n",
        "    self.datas = np.loadtxt(self.file_path,dtype=str)\n",
        "    self.tence = [\"sp\",\"tp\",\"pp\",\"p\"]#sp = simple-present, tp = third-present\n",
        "                                     #pp present-progressive, p simple-past\n",
        "    self.datas = np.reshape(self.datas,-1)\n",
        "    self.text2tensor = TextTransformer()\n",
        "\n",
        "  def __len__(self):\n",
        "    return len(self.datas)\n",
        "\n",
        "  def __getitem__(self,index):\n",
        "    condition = index % len(self.tence)\n",
        "    return self.text2tensor.seq2indices(self.datas[index],add_SOS=False,add_EOS=True), condition\n",
        "\n",
        "class TestDataset(Dataset):\n",
        "  def __init__(self):\n",
        "    self.file_path = \"./test.txt\"\n",
        "    self.datas = np.loadtxt(self.file_path,dtype=str)\n",
        "    \"\"\"sp -> p\n",
        "       sp -> pg\n",
        "       sp -> tp\n",
        "       sp -> tp\n",
        "       p  -> tp\n",
        "       sp -> pg\n",
        "       p  -> sp\n",
        "       pg -> sp\n",
        "       pg -> p\n",
        "       pg -> tp\"\"\"\n",
        "    self.condition =[[0,3],[0,2],[0,1],[0,1],[3,1],\n",
        "                     [0,2],[3,0],[2,0],[2,3],[2,1]]\n",
        "    self.datas = np.reshape(self.datas,(-1,2))\n",
        "    self.text2tensor = TextTransformer()\n",
        "  \n",
        "  def __len__(self):\n",
        "    return len(self.datas)\n",
        "\n",
        "  def __getitem__(self,index):\n",
        "    in_seq = self.text2tensor.seq2indices(self.datas[index][0],add_EOS=True)\n",
        "    in_condi = self.condition[index][0]\n",
        "    out_seq = self.text2tensor.seq2indices(self.datas[index][1],add_EOS=True)\n",
        "    out_condi = self.condition[index][1]\n",
        "    return in_seq, in_condi, out_seq, out_condi\n"
      ],
      "execution_count": 27,
      "outputs": []
    },
    {
      "cell_type": "markdown",
      "metadata": {
        "id": "fy9D2e4KW6ck"
      },
      "source": [
        "#EncoderRNN"
      ]
    },
    {
      "cell_type": "code",
      "metadata": {
        "id": "EVwOUbfcJRa4"
      },
      "source": [
        "\n",
        "class EncoderRNN(nn.Module):\n",
        "  def __init__(self, input_size, embedding_size=256, hidden_size=256,\n",
        "               condi_size=4, condi_emb_size=8, latent_size=32, num_layer=1):\n",
        "    super(EncoderRNN, self).__init__()\n",
        "    self.input_size = input_size\n",
        "    self.embedding_size = embedding_size\n",
        "    self.hidden_size = hidden_size\n",
        "    self.condi_size = condi_size\n",
        "    self.condi_emb_size = condi_emb_size\n",
        "    self.latent_size = latent_size\n",
        "    self.num_layer = num_layer\n",
        "\n",
        "    self.embedding = nn.Embedding(self.input_size, self.embedding_size)\n",
        "    self.condi_embedding = nn.Embedding(self.condi_size, self.condi_emb_size)\n",
        "    \n",
        "    self.lstm = nn.LSTM(self.embedding_size, self.hidden_size, self.num_layer)\n",
        "\n",
        "    self.mean = nn.Linear(self.hidden_size, self.latent_size)\n",
        "    self.logvar = nn.Linear(self.hidden_size, self.latent_size)\n",
        "\n",
        "  def forward(self,input,hidden):\n",
        "    input_embedding = self.embedding(input).view(1, 1, -1)\n",
        "\n",
        "    output, hidden = self.lstm(input_embedding, hidden)\n",
        "\n",
        "    mean_hidden = self.mean(hidden[0])\n",
        "    logvar_hidden = self.logvar(hidden[0])\n",
        "\n",
        "    z = self.reparameterization(mean_hidden, logvar_hidden)\n",
        "    return output, hidden, z, mean_hidden, logvar_hidden\n",
        "  \n",
        "  def init_hidden(self, condition):\n",
        "    condition_tensor = torch.LongTensor([condition]).to(device)\n",
        "    condi_embedding = self.condi_embedding(condition_tensor).view(1, 1, -1)\n",
        "\n",
        "    hidden = torch.randn(1, 1, (self.hidden_size - self.condi_emb_size)).to(device)\n",
        "    hidden = torch.cat((hidden, condi_embedding),dim = 2)\n",
        "\n",
        "    cell = torch.randn(1, 1, self.hidden_size)\n",
        "\n",
        "    hidden = (hidden.to(device), cell.to(device))\n",
        "    \n",
        "    return hidden\n",
        "\n",
        "\n",
        "  def reparameterization(self, mean, logvar):\n",
        "        std = torch.exp(0.5 * logvar)\n",
        "        eps = torch.randn(1, 1, self.latent_size, device=device) # sample a gaussain noise from N(0, I)\n",
        "        z = mean + std * eps\n",
        "        return z\n",
        "\n"
      ],
      "execution_count": 28,
      "outputs": []
    },
    {
      "cell_type": "markdown",
      "metadata": {
        "id": "LZd-cAu2W81g"
      },
      "source": [
        "#DecoderRNN"
      ]
    },
    {
      "cell_type": "code",
      "metadata": {
        "id": "Lw4xSoxZThOW"
      },
      "source": [
        "class DecoderRNN(nn.Module):\n",
        "  def __init__(self, output_size, embedding_size=256, hidden_size=256,\n",
        "               condi_size=4, condi_emb_size=8, latent_size=32, num_layer=1):\n",
        "    super(DecoderRNN, self).__init__()\n",
        "    self.output_size = output_size\n",
        "    self.embedding_size = embedding_size\n",
        "    self.hidden_size = hidden_size\n",
        "    self.condi_size = condi_size\n",
        "    self.condi_emb_size = condi_emb_size\n",
        "    self.latent_size = latent_size\n",
        "    self.num_layer = num_layer\n",
        "\n",
        "    self.latent_to_hidden = nn.Linear((self.latent_size + self.condi_emb_size), self.hidden_size)\n",
        "\n",
        "    self.embedding = nn.Embedding(self.output_size, self.embedding_size)\n",
        "    self.condi_embedding = nn.Embedding(self.condi_size, self.condi_emb_size)\n",
        "    nn.init.normal_(self.embedding.weight, 0.0, 0.2)\n",
        "    self.lstm = nn.LSTM(self.embedding_size, self.hidden_size, self.num_layer)\n",
        "    self.out = nn.Linear(self.hidden_size, self.output_size)\n",
        "\n",
        "  def forward(self, input, hidden):\n",
        "    output_embedding = self.embedding(input).view(1, 1, -1)\n",
        "\n",
        "    output = F.relu(output_embedding)\n",
        "\n",
        "    output, hidden = self.lstm(output, hidden)\n",
        "\n",
        "    output = self.out(output[0])\n",
        "\n",
        "    return output, hidden\n",
        "\n",
        "  def init_hidden(self, z, condition):\n",
        "    condition_tensor = torch.LongTensor([condition]).to(device)\n",
        "    condi_embedding = self.condi_embedding(condition_tensor).view(1, 1, -1)\n",
        "\n",
        "    latent_hidden = torch.cat((z,condi_embedding), dim = 2)\n",
        "    \n",
        "    hidden = self.latent_to_hidden(latent_hidden)\n",
        "    cell = torch.randn(1, 1, self.hidden_size)\n",
        "\n",
        "    hidden = (hidden.to(device), cell.to(device))\n",
        "    \n",
        "    return hidden"
      ],
      "execution_count": 29,
      "outputs": []
    },
    {
      "cell_type": "markdown",
      "metadata": {
        "id": "aS0ljJURXB2N"
      },
      "source": [
        "#unit"
      ]
    },
    {
      "cell_type": "code",
      "metadata": {
        "id": "Mq0ePzhyVUiq"
      },
      "source": [
        "def cal_KL_loss(mean, logvar):\n",
        "  KL_loss = torch.sum(0.5 * (-logvar + (mean ** 2) + torch.exp(logvar) - 1))\n",
        "  return KL_loss\n",
        "\n",
        "def KL_Cost_Annealing(iter,  mode = 0):\n",
        "  iter = iter\n",
        "  \n",
        "  if not mode: # mode = 0 is \"monotonic\"\n",
        "    slope = 0.001\n",
        "    w = slope * iter\n",
        "    if w > 1.0:\n",
        "      w = 1.0\n",
        "\n",
        "  else: #mode = 1 is \"cyclical\"\n",
        "    slope = 0.005\n",
        "    period = 1.0 / slope * 2\n",
        "    w = slope * (iter % period)\n",
        "    if w > 1.0:\n",
        "      w = 1.0\n",
        "\n",
        "  return w\n",
        "\n",
        "def Teacher_Forcing_Ratio(iter):\n",
        "  slope =0.01\n",
        "  level = 10\n",
        "  w = 1.0 - (slope * (iter // level))\n",
        "  if w <= 0.0:\n",
        "    w = 0.0\n",
        "  return w "
      ],
      "execution_count": 30,
      "outputs": []
    },
    {
      "cell_type": "code",
      "metadata": {
        "id": "enl0FsYqb0cO"
      },
      "source": [
        "def show_noise(noise):\n",
        "    plt.title('sample Z')\n",
        "    plt.plot(noise.view(-1))\n",
        "    plt.show()"
      ],
      "execution_count": 31,
      "outputs": []
    },
    {
      "cell_type": "code",
      "metadata": {
        "id": "SZxwFqQhd5JC"
      },
      "source": [
        "def train(input, condition, traget, encoder, decoder,\n",
        "          encoder_optimizer, decoder_optimizer, criterion,\n",
        "          KL_weight, teacher_forcing_rate):\n",
        "  encoder.train()\n",
        "  decoder.train()\n",
        "  \n",
        "  encoder_hidden = encoder.init_hidden(condition)\n",
        "\n",
        "  encoder_optimizer.zero_grad()\n",
        "  decoder_optimizer.zero_grad()\n",
        "\n",
        "  loss = 0\n",
        "  \n",
        "  for ei in range(len(input)):\n",
        "    output, encoder_hidden, z, e_maen, e_logvar = encoder(input[ei], encoder_hidden)\n",
        "\n",
        "  KL_loss = cal_KL_loss(e_maen, e_logvar)\n",
        "\n",
        "  decoder_input = torch.tensor([[SOS]], device=device)\n",
        "\n",
        "  decoder_hidden = decoder.init_hidden(z, condition)\n",
        "\n",
        "  use_teacher_forcing = True if random.random() < teacher_forcing_rate else False\n",
        "\n",
        "  if use_teacher_forcing:\n",
        "    for di in range(len(traget)):\n",
        "      decoder_output, decoder_hidden = decoder(decoder_input, decoder_hidden)\n",
        "      decoder_input = traget[di]\n",
        "      loss += criterion(decoder_output, traget[di].view(-1))\n",
        "\n",
        "  else:\n",
        "    for di in range(len(traget)):\n",
        "      decoder_output, decoder_hidden = decoder(decoder_input, decoder_hidden)\n",
        "      top_value, top_index = decoder_output.topk(1)\n",
        "      decoder_input = top_index.squeeze().detach()\n",
        "      loss += criterion(decoder_output, traget[di].view(-1))\n",
        "\n",
        "      if decoder_input.item() == EOS:\n",
        "        break\n",
        "\n",
        "  ((KL_weight * KL_loss)+loss).backward()\n",
        "\n",
        "  encoder_optimizer.step()\n",
        "  decoder_optimizer.step()\n",
        "\n",
        "  return loss.item(), KL_loss.item()"
      ],
      "execution_count": 32,
      "outputs": []
    },
    {
      "cell_type": "markdown",
      "metadata": {
        "id": "exBD3FNUWv9e"
      },
      "source": [
        "#infer"
      ]
    },
    {
      "cell_type": "code",
      "metadata": {
        "id": "S6Hd-FJqXzi2"
      },
      "source": [
        "def infer(encoder, decoder, in_seq, in_condi, out_seq, out_condi):\n",
        "\n",
        "  with torch.no_grad():\n",
        "\n",
        "    in_seq = torch.LongTensor(in_seq).to(device)\n",
        "    encoder_hidden = encoder.init_hidden(in_condi)\n",
        "\n",
        "    for ei in range(len(in_seq)):\n",
        "      output, encoder_hidden, z, _, _ = encoder(in_seq[ei], encoder_hidden)\n",
        "\n",
        "    decoder_input = torch.tensor([[SOS]], device=device)\n",
        "\n",
        "    decoder_hidden = decoder.init_hidden(z.view(1, 1, -1), out_condi)\n",
        "\n",
        "    output_word = []\n",
        "\n",
        "    for di in range(len(out_seq)):\n",
        "      decoder_output, decoder_hidden = decoder(decoder_input, decoder_hidden)\n",
        "\n",
        "      top_value, top_index = decoder_output.topk(1)\n",
        "      \n",
        "\n",
        "      if top_index.item() == EOS:\n",
        "        #output_word.append(\"EOS\")\n",
        "        break\n",
        "      else:\n",
        "        char = transformer.indices2seq([top_index.item()])\n",
        "        if len(char)!=0:\n",
        "          output_word.append(char[0])\n",
        "      decoder_input = top_index.squeeze().detach()\n",
        "\n",
        "    out_seq = transformer.seq2word(output_word)\n",
        "\n",
        "    return out_seq"
      ],
      "execution_count": 33,
      "outputs": []
    },
    {
      "cell_type": "markdown",
      "metadata": {
        "id": "PUgGJ-5PW0C0"
      },
      "source": [
        "#score"
      ]
    },
    {
      "cell_type": "code",
      "metadata": {
        "id": "hgInymaa0jug"
      },
      "source": [
        "def Cal_BLEU_4_score(encoder,decoder):\n",
        "  with torch.no_grad():\n",
        "    score = 0\n",
        "    for in_seq, in_condi, out_seq, out_condi in testset:    \n",
        "      decoder_output = infer(encoder, decoder, in_seq, in_condi, out_seq, out_condi)\n",
        "\n",
        "      int_seq = transformer.seq2word((transformer.indices2seq(in_seq)))\n",
        "      out_seq = transformer.seq2word((transformer.indices2seq(out_seq)))\n",
        "\n",
        "      print(\"[input]:\",int_seq,\"[traget]:\",out_seq,\"[infer]:\",decoder_output)\n",
        "      score += compute_bleu(decoder_output,out_seq)\n",
        "\n",
        "    score /= len(testset)\n",
        "  return score\n",
        "\n",
        "def Cal_Gaussian_score(decoder):\n",
        "\n",
        "  words = Generate_gassian(decoder,num=100)\n",
        "\n",
        "  return Gaussian_score(words)\n",
        "\n",
        "def Generate_gassian(decoder, num):\n",
        "  with torch.no_grad():\n",
        "\n",
        "    words = []\n",
        "    \n",
        "    for i in range(num):\n",
        "      string = []\n",
        "      noise = torch.zeros(1, 1, latent_size) + (( 0.1**0.5 ) * torch.randn(1, 1, latent_size))\n",
        "\n",
        "        \n",
        "      for condition in range(4):\n",
        "        decoder_hidden = decoder.init_hidden(noise.to(device),condition)\n",
        "        decoder_input = torch.tensor([[SOS]], device=device)\n",
        "        output_word = []\n",
        "        \n",
        "        for di in range(20):\n",
        "          decoder_output, decoder_hidden = decoder(decoder_input, decoder_hidden)\n",
        "          top_value, top_index = decoder_output.topk(1)\n",
        "          \n",
        "          if top_index.item() == EOS:\n",
        "            #output_word.append(\"EOS\")\n",
        "            break\n",
        "\n",
        "          else:\n",
        "            char = transformer.indices2seq([top_index.item()])\n",
        "            if len(char)!=0:\n",
        "              output_word.append(char[0])\n",
        "          decoder_input = top_index.squeeze().detach()\n",
        "          out_seq = transformer.seq2word(output_word)\n",
        "        string.append(out_seq)\n",
        "      words.append(string)\n",
        "  print(words)\n",
        "  return words"
      ],
      "execution_count": 34,
      "outputs": []
    },
    {
      "cell_type": "markdown",
      "metadata": {
        "id": "nITXF7AnXUFD"
      },
      "source": [
        "#show image"
      ]
    },
    {
      "cell_type": "code",
      "metadata": {
        "id": "fmxkkwlBXae0"
      },
      "source": [
        "def show_image(data, types, save=0,show=1):\n",
        "  plt.figure()\n",
        "  fig, ax = plt.subplots()\n",
        "  loc = ticker.MultipleLocator(base=0.2)\n",
        "  ax.yaxis.set_major_locator(loc)\n",
        "  if types == \"KL_loss\":\n",
        "    plt.plot(point, color=\"blue\", linewidth=1)\n",
        "    plt.xlabel(\"Iteration\")\n",
        "    plt.ylabel(\"KL_div_loss\")\n",
        "    plt.title(\"KL_div\")\n",
        "  elif types == \"loss\":\n",
        "    plt.plot(point, color=\"blue\", linewidth=1)\n",
        "    plt.xlabel(\"Iteration\")\n",
        "    plt.ylabel(\"Loss\")\n",
        "    plt.title(\"Loss\")\n",
        "  elif types == \"BLEU\":\n",
        "    plt.plot(point, color=\"red\", linewidth=1)\n",
        "    plt.xlabel(\"Iteration\")\n",
        "    plt.ylabel(\"score\")\n",
        "    plt.title(\"BLEU score\")\n",
        "    plt.ylim(0.0,1.0)\n",
        "  else:\n",
        "    plt.plot(point, color=\"green\", linewidth=1)\n",
        "    plt.xlabel(\"Iteration\")\n",
        "    plt.ylabel(\"score\")\n",
        "    plt.title(\"Gaussian score\")\n",
        "  plt.legend()\n",
        "  if show:\n",
        "    plt.show()\n",
        "  if not save:\n",
        "    plt.savefig(str(types)+\".png\")"
      ],
      "execution_count": 35,
      "outputs": []
    },
    {
      "cell_type": "markdown",
      "metadata": {
        "id": "FtMM_OXpXazW"
      },
      "source": [
        "#save_load unit"
      ]
    },
    {
      "cell_type": "code",
      "metadata": {
        "id": "uueMuSMIXhFE"
      },
      "source": [
        "def save_model(model,model_name):\n",
        "  FILE = file_path + \"model/\" + str(model_name) + \".dict\"\n",
        "  torch.save(model.state_dict(), FILE)\n",
        "\n",
        "def load_model(model,model_name):\n",
        "  device = \"cuda\" if torch.cuda.is_available() else \"cpu\"\n",
        "  FILE = file_path + \"monotonic/model/\" + str(model_name) + \".dict\"\n",
        "  model.load_state_dict(torch.load(FILE))\n",
        "  model.to(device)"
      ],
      "execution_count": 36,
      "outputs": []
    },
    {
      "cell_type": "markdown",
      "metadata": {
        "id": "VSIhS_eSWsJC"
      },
      "source": [
        "#trainer"
      ]
    },
    {
      "cell_type": "code",
      "metadata": {
        "id": "fVpgTF7qVOao"
      },
      "source": [
        "def trainer(encoder, decoder, epochs, learning_rate):\n",
        "  start = time.time()\n",
        "  best_score = 0\n",
        "  if not os.path.isdir(file_path+\"model\"):\n",
        "    os.mkdir(file_path+\"model\")\n",
        "\n",
        "  f = open(file_path+'history.txt', 'w')\n",
        "  f.close()\n",
        "\n",
        "  losses = []\n",
        "  KLD_loss = []\n",
        "  Blue_scoce = []\n",
        "  \n",
        "  total_loss = 0\n",
        "  total_KL_loss = 0\n",
        "  \n",
        "  Trainset = TrainDataset()\n",
        "  Testset = TestDataset()\n",
        "\n",
        "  criterion = nn.CrossEntropyLoss()\n",
        "  encoder_optimizer=optim.SGD(encoder.parameters(), lr=learning_rate)\n",
        "  decoder_optimizer=optim.SGD(decoder.parameters(), lr=learning_rate)\n",
        "\n",
        "  for iter in range(epochs):\n",
        "    print(\"iter:\",iter)\n",
        "    KL_weight = KL_Cost_Annealing(iter,mode=1)#mode 0 = monotonic mode 1 = cyclical\n",
        "    teacher_forcing_rate = Teacher_Forcing_Ratio(iter)  \n",
        "\n",
        "    for text, condition in Trainset:\n",
        "\n",
        "      input = torch.LongTensor(text).to(device)\n",
        "      traget = torch.LongTensor(text).to(device)\n",
        "      \n",
        "      loss, KL_loss = train(input, condition, traget, encoder, decoder,\n",
        "                            encoder_optimizer, decoder_optimizer, criterion,\n",
        "                            KL_weight, teacher_forcing_rate)\n",
        "\n",
        "      total_loss += loss\n",
        "      total_KL_loss += KL_loss\n",
        "\n",
        "    loss_avg = total_loss / len(Trainset)\n",
        "    KL_loss_avg = total_KL_loss / len(Trainset) \n",
        "\n",
        "    BLEU_4_score = Cal_BLEU_4_score(encoder,decoder)\n",
        "    Gaussian_score = Cal_Gaussian_score(decoder)\n",
        "\n",
        "    print('%s (%d %d%%): loss=%.4f, KL_loss=%.4f, BLEU_4_score=%.4f, Gaussian_score=%.4f'\n",
        "              % (timeSince(start, (iter+1) / epochs), iter,\n",
        "                 (iter+1) / epochs * 100, loss_avg,\n",
        "                 KL_loss_avg, BLEU_4_score, Gaussian_score))\n",
        "\n",
        "    f = open(file_path+'history.txt', 'a')\n",
        "    f.write(str(iter) + ', ' + str(loss_avg) + ', ' + str(KL_loss_avg) + ', ' \n",
        "            + str(BLEU_4_score) + ', ' + str(Gaussian_score) + ', '\n",
        "            + str(KL_weight) + ', ' + str(teacher_forcing_rate) + '\\n')\n",
        "    f.close()\n",
        "    \n",
        "    losses.append(loss_avg)\n",
        "    KLD_loss.append(KL_loss_avg)\n",
        "\n",
        "    if BLEU_4_score > best_score:\n",
        "      best_score = BLEU_4_score\n",
        "      save_path_encoder = file_path + '/model/' + 'encoder_epoch_' + str(iter) + '.dict'\n",
        "      save_path_decoder = file_path + '/model/' + 'decoder_epoch_' + str(iter) + '.dict'\n",
        "      torch.save(encoder.state_dict(), save_path_encoder)\n",
        "      torch.save(decoder.state_dict(), save_path_decoder)\n",
        "\n",
        "    total_loss = 0\n",
        "    total_KL_loss = 0\n"
      ],
      "execution_count": 37,
      "outputs": []
    },
    {
      "cell_type": "markdown",
      "metadata": {
        "id": "f5mvqd7vXQt8"
      },
      "source": [
        "#main"
      ]
    },
    {
      "cell_type": "code",
      "metadata": {
        "colab": {
          "base_uri": "https://localhost:8080/"
        },
        "id": "SJnS53L-9yl5",
        "outputId": "4f78d3b4-7a8a-4dee-bc91-955d02f63701"
      },
      "source": [
        "device = \"cuda\" if torch.cuda.is_available() else \"cpu\"\n",
        "learning_rate=1e-3\n",
        "epochs = 1000\n",
        "latent_size = 64\n",
        "\n",
        "transformer = TextTransformer()\n",
        "\n",
        "trainset = TrainDataset()\n",
        "testset = TestDataset()\n",
        "\n",
        "encoder = EncoderRNN(30).to(device)\n",
        "decoder = DecoderRNN(30).to(device)\n",
        "\n",
        "criterion = nn.CrossEntropyLoss()\n",
        "encoder_optimizer=optim.SGD(encoder.parameters(), lr=learning_rate)\n",
        "decoder_optimizer=optim.SGD(decoder.parameters(), lr=learning_rate)\n",
        "\n",
        "#trainer(encoder,decoder,600,learning_rate)\n",
        "load_model(encoder,\"encoder_epoch_186\")\n",
        "load_model(decoder,\"decoder_epoch_186\")\n",
        "\n",
        "BLEU_4_score = Cal_BLEU_4_score(encoder, decoder)\n",
        "print(BLEU_4_score)\n",
        "\n",
        "print(Cal_Gaussian_score(decoder))\n",
        "\n",
        "\n"
      ],
      "execution_count": 43,
      "outputs": [
        {
          "output_type": "stream",
          "name": "stdout",
          "text": [
            "[input]: abandon [traget]: abandoned [infer]: abandoned\n",
            "[input]: abet [traget]: abetting [infer]: abetting\n",
            "[input]: begin [traget]: begins [infer]: rings\n",
            "[input]: expend [traget]: expends [infer]: expends\n",
            "[input]: sent [traget]: sends [infer]: steats\n",
            "[input]: split [traget]: splitting [infer]: splitting\n",
            "[input]: flared [traget]: flare [infer]: flare\n",
            "[input]: functioning [traget]: function [infer]: function\n",
            "[input]: functioning [traget]: functioned [infer]: surveyed\n",
            "[input]: healing [traget]: heals [infer]: hangs\n",
            "0.6285692757956101\n",
            "[['pritch', 'pritch', 'pritching', 'pritching'], ['stand', 'thind', 'hincing', 'think'], ['swoin', 'swoon', 'swoin', 'swoin'], ['flaring', 'flaring', 'flaring', 'flaring'], ['gaur', 'sweeping', 'sweep', 'sweep'], ['spemilling', 'spemilling', 'spemilling', 'spemin'], ['dipp', 'dip', 'dipping', 'dipping'], ['frigning', 'friek', 'frignated', 'frignated'], ['blowing', 'bolding', 'sweeping', 'sweeping'], ['flaunting', 'flaunting', 'sizing', 'flaunting'], ['profess', 'hoodin', 'hooding', 'profess'], ['extracting', 'extracting', 'extracting', 'extracting'], ['correst', 'confronts', 'correst', 'correst'], ['exacted', 'exaining', 'exacting', 'exacted'], ['ereering', 'ertwent', 'empress', 'emerame'], ['stain', 'stain', 'cariok', 'cariok'], ['exiling', 'depictt', 'exiling', 'depictt'], ['assculting', 'ascomning', 'ascomed', 'ascheemn'], ['swivering', 'astouct', 'affecting', 'affecting'], ['endi', 'cling', 'conning', 'ceed'], ['soez', 'flaunting', 'soed', 'soaed'], ['bing', 'bend', 'being', 'behidn'], ['accomed', 'accomping', 'attack', 'attack'], ['contining', 'contining', 'containing', 'containing'], ['snakes', 'shake', 'sake', 'skears'], ['attend', 'attend', 'attend', 'attend'], ['spund', 'choos', 'close', 'scow'], ['frizin', 'frizin', 'firmani', 'finizating'], ['expand', 'exalleng', 'expanding', 'expend'], ['dig', 'def', 'dig', 'def'], ['ensule', 'exched', 'exches', 'ensuing'], ['squeezing', 'squeezing', 'swowing', 'squeezing'], ['stroll', 'strolls', 'strolling', 'stroll'], ['grind', 'fright', 'grind', 'grind'], ['swishing', 'swishing', 'affici', 'swishing'], ['interes', 'interfe', 'interfe', 'interfe'], ['blowing', 'blows', 'blowing', 'bwhow'], ['swin', 'fixin', 'swin', 'fixin'], ['equating', 'feeds', 'feeding', 'feeding'], ['strowing', 'strows', 'stroving', 'stweive'], ['escort', 'escort', 'twot', 'estering'], ['fort', 'obt', 'twoing', 'obs'], ['flinger', 'soldwing', 'felting', 'fling'], ['spinning', 'snatting', 'winning', 'snatting'], ['auging', 'augs', 'hold', 'hond'], ['staighing', 'staighing', 'staighing', 'staighing'], ['swiding', 'swishing', 'swishing', 'swishing'], ['withdong', 'stit', 'stit', 'withdo'], ['fining', 'dingres', 'dingress', 'dingress'], ['obtaining', 'obtain', 'extracting', 'obtaining'], ['threw', 'exiled', 'enimin', 'enimin'], ['screak', 'screaking', 'screaking', 'screaking'], ['doe', 'dod', 'dodg', 'defy'], ['going', 'going', 'going', 'going'], ['sparing', 'spaining', 'saying', 'saving'], ['stanging', 'stanging', 'staging', 'stanging'], ['emist', 'abstret', 'advore', 'resists'], ['correst', 'corresses', 'corrests', 'corressing'], ['ex', 'enswend', 'end', 'end'], ['swaking', 'launch', 'scave', 'spars'], ['specializing', 'spembling', 'specining', 'spembling'], ['emund', 'emb', 'equate', 'equated'], ['stalk', 'stank', 'stalk', 'stank'], ['clims', 'screwing', 'ill', 'claming'], ['steaming', 'steaming', 'steaming', 'steaming'], ['exiles', 'exiems', 'exited', 'exites'], ['empand', 'preach', 'prepid', 'preat'], ['gaining', 'gaining', 'braigning', 'ranking'], ['doe', 'doeging', 'doew', 'doe'], ['prestoting', 'preserving', 'pretering', 'proteing'], ['lefe', 'tele', 'tell', 'tlee'], ['feiminating', 'featuring', 'wrinking', 'feiminating'], ['flain', 'flaining', 'flaing', 'flaking'], ['fighting', 'figures', 'foring', 'fighting'], ['swag', 'swagg', 'swa', 'sagg'], ['wort', 'wort', 'wortin', 'wort'], ['stin', 'stin', 'swit', 'swit'], ['flouring', 'flotter', 'flouring', 'flouring'], ['spending', 'speating', 'speating', 'spending'], ['intoving', 'intoning', 'intoing', 'intoin'], ['fingin', 'flinter', 'stat', 'fingin'], ['crewhne', 'cratch', 'crewin', 'crewin'], ['enduring', 'endure', 'enduring', 'enduring'], ['estung', 'ejught', 'engot', 'estung'], ['exudes', 'exudes', 'exudes', 'exudes'], ['bankioning', 'banktrack', 'bankioning', 'baiking'], ['opcusing', 'obliging', 'obliging', 'opcusing'], ['expire', 'exasteres', 'repies', 'repint'], ['hoared', 'auphing', 'sprave', 'tarrs'], ['piozin', 'piozin', 'probing', 'piozin'], ['spend', 'stalk', 'specul', 'speid'], ['fanizing', 'sinaging', 'standing', 'standing'], ['take', 'ched', 'ched', 'ched'], ['findering', 'finder', 'findering', 'finder'], ['twinn', 'twin', 'twinned', 'twinni'], ['exha', 'enswing', 'exhand', 'envie'], ['protect', 'prote', 'prote', 'prote'], ['floating', 'floating', 'feliering', 'floating'], ['disgissing', 'disgissing', 'disight', 'disgissing'], ['stroe', 'strot', 'stroeching', 'strot']]\n",
            "0.0\n"
          ]
        }
      ]
    },
    {
      "cell_type": "code",
      "metadata": {
        "id": "_RZhjj6AENeB",
        "colab": {
          "base_uri": "https://localhost:8080/",
          "height": 295
        },
        "outputId": "3eeecc09-17cc-49e7-bd68-33a7af447eb7"
      },
      "source": [
        "def read_and_show_curve(path):\n",
        "    f = open(path, 'r')\n",
        "    lines = f.readlines()\n",
        "    f.close()\n",
        "    iters = []\n",
        "    loss_avg = []\n",
        "    KL_loss_avg = []\n",
        "    BLEU_4_score = []\n",
        "    Gaussian_score = []\n",
        "    KL_weight = []\n",
        "    teacher_forcing_rate = []\n",
        "    for index in range(len(lines)):\n",
        "      x = re.split(\", \", lines[index])\n",
        "      iters.append(int(x[0]))\n",
        "      loss_avg.append(float(x[1]))\n",
        "      KL_loss_avg.append(float(x[2]))\n",
        "      BLEU_4_score.append(float(x[3]))\n",
        "      Gaussian_score.append(float(x[4]))\n",
        "      KL_weight.append(float(x[5]))\n",
        "      teacher_forcing_rate.append(float(x[6]))\n",
        "      \n",
        "    plt.figure()\n",
        "    plt.title(\"Curve\")\n",
        "    plt.xlabel(\"iters\")\n",
        "    plt.ylabel(\"loss\")\n",
        "\n",
        "    plt.plot(iters, loss_avg, label=\"loss\", linewidth=3, color=\"red\")\n",
        "    plt.plot(iters, KL_loss_avg, label=\"KL_loss\", linewidth=3,color=\"blue\")\n",
        "\n",
        "    ax = plt.gca().twinx()\n",
        "\n",
        "    ax.plot(iters, BLEU_4_score, \".\", label=\"BLEU_4_score\",color=\"lightgreen\")\n",
        "    ax.plot(iters, Gaussian_score, \".\", label=\"Gaussian_score\",color=\"slateblue\")\n",
        "    ax.plot(iters, KL_weight, \"--\", label=\"KL_weight\",color=\"lightpink\")\n",
        "    ax.plot(iters, teacher_forcing_rate, \"--\", label=\"teacher_forcing_rate\",color=\"brown\")\n",
        "    plt.legend()\n",
        "    plt.show()\n",
        "\n",
        "read_and_show_curve(file_path+\"monotonic/\"+'history.txt')"
      ],
      "execution_count": 44,
      "outputs": [
        {
          "output_type": "display_data",
          "data": {
            "image/png": "[encoded data removed]",
            "text/plain": [
              "<Figure size 432x288 with 2 Axes>"
            ]
          },
          "metadata": {
            "needs_background": "light"
          }
        }
      ]
    }
  ]
}